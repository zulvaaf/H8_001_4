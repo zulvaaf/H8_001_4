{
 "cells": [
  {
   "cell_type": "markdown",
   "id": "b5e8e1b8",
   "metadata": {},
   "source": [
    "# Function, Basic Module, and Package"
   ]
  },
  {
   "cell_type": "code",
   "execution_count": 151,
   "id": "6162afb7",
   "metadata": {},
   "outputs": [],
   "source": [
    "# function luas persegi panjang\n",
    " \n",
    "def func_cetak_luas(p,l): \n",
    "    \"function untuk menghitung luas\"\n",
    "    print(p*l)\n",
    "    # return None"
   ]
  },
  {
   "cell_type": "code",
   "execution_count": 102,
   "id": "a601696b",
   "metadata": {},
   "outputs": [
    {
     "name": "stdout",
     "output_type": "stream",
     "text": [
      "60\n"
     ]
    }
   ],
   "source": [
    "func_cetak_luas(20,3)\n"
   ]
  },
  {
   "cell_type": "code",
   "execution_count": 103,
   "id": "d4c2861a",
   "metadata": {},
   "outputs": [
    {
     "name": "stdout",
     "output_type": "stream",
     "text": [
      "40\n",
      "None\n"
     ]
    }
   ],
   "source": [
    "print(func_cetak_luas(20,2))"
   ]
  },
  {
   "cell_type": "code",
   "execution_count": 104,
   "id": "ae327916",
   "metadata": {},
   "outputs": [
    {
     "name": "stdout",
     "output_type": "stream",
     "text": [
      "20\n",
      "None\n"
     ]
    }
   ],
   "source": [
    "result = func_cetak_luas(10,2)\n",
    "print(result)"
   ]
  },
  {
   "cell_type": "code",
   "execution_count": 105,
   "id": "1f2cf8b2",
   "metadata": {},
   "outputs": [],
   "source": [
    "def func_luas2(p,l): \n",
    "    \"function untuk menghitung luas\"\n",
    "    return abs(p*l)"
   ]
  },
  {
   "cell_type": "code",
   "execution_count": 106,
   "id": "9c24e615",
   "metadata": {},
   "outputs": [
    {
     "name": "stdout",
     "output_type": "stream",
     "text": [
      "Luas : 120\n"
     ]
    }
   ],
   "source": [
    "luas = func_luas2(30,4)\n",
    "print(\"Luas :\",luas)"
   ]
  },
  {
   "cell_type": "code",
   "execution_count": 107,
   "id": "6a0aa898",
   "metadata": {},
   "outputs": [
    {
     "name": "stdout",
     "output_type": "stream",
     "text": [
      "Luas : 88\n"
     ]
    }
   ],
   "source": [
    "luas = func_luas2(-22,4)\n",
    "print(\"Luas :\",luas)"
   ]
  },
  {
   "cell_type": "code",
   "execution_count": 108,
   "id": "7e9b002d",
   "metadata": {},
   "outputs": [],
   "source": [
    "def printme( str ):\n",
    "   \"This prints a passed string into this function\"\n",
    "   print(str)\n",
    "   return"
   ]
  },
  {
   "cell_type": "code",
   "execution_count": 109,
   "id": "1457d2f2",
   "metadata": {},
   "outputs": [
    {
     "name": "stdout",
     "output_type": "stream",
     "text": [
      "Ahmad Firdaus Z\n",
      "None\n"
     ]
    }
   ],
   "source": [
    "hasil = printme(\"Ahmad Firdaus Z\")\n",
    "print(hasil)"
   ]
  },
  {
   "cell_type": "markdown",
   "id": "dd8d034c",
   "metadata": {},
   "source": [
    "## function pengecekan nilai ganjil atau genap"
   ]
  },
  {
   "cell_type": "code",
   "execution_count": 110,
   "id": "e99da368",
   "metadata": {},
   "outputs": [],
   "source": [
    "def cekbilangan(x):\n",
    "    if x % 2:\n",
    "        print(\"Bilangan Ganjil\") \n",
    "    else : \n",
    "        print(\"Bilangan Genap\")\n",
    "    return "
   ]
  },
  {
   "cell_type": "code",
   "execution_count": 111,
   "id": "f45d8fe1",
   "metadata": {},
   "outputs": [
    {
     "name": "stdout",
     "output_type": "stream",
     "text": [
      "Bilangan Genap\n"
     ]
    }
   ],
   "source": [
    "cekbilangan(12)"
   ]
  },
  {
   "cell_type": "markdown",
   "id": "e1a8aa04",
   "metadata": {},
   "source": [
    "## Calling a Function"
   ]
  },
  {
   "cell_type": "code",
   "execution_count": 112,
   "id": "55033ba4",
   "metadata": {},
   "outputs": [
    {
     "name": "stdout",
     "output_type": "stream",
     "text": [
      "I'm first call to user defined function!\n",
      "Again second call to the same function\n"
     ]
    }
   ],
   "source": [
    "def printme( str ):\n",
    "   \"This prints a passed string into this function\"\n",
    "   print(str)\n",
    "   return\n",
    "\n",
    "# Now you can call printme function\n",
    "printme(\"I'm first call to user defined function!\")\n",
    "printme(\"Again second call to the same function\")"
   ]
  },
  {
   "cell_type": "markdown",
   "id": "4e30eb80",
   "metadata": {},
   "source": [
    "## Pass by reference vs value"
   ]
  },
  {
   "cell_type": "code",
   "execution_count": 113,
   "id": "9c6894d2",
   "metadata": {},
   "outputs": [
    {
     "name": "stdout",
     "output_type": "stream",
     "text": [
      "isi list [9, 8, 7]\n"
     ]
    }
   ],
   "source": [
    "listx = [9,8,7] \n",
    "print(f\"isi list {listx}\")"
   ]
  },
  {
   "cell_type": "code",
   "execution_count": 114,
   "id": "ebb6b652",
   "metadata": {},
   "outputs": [
    {
     "name": "stdout",
     "output_type": "stream",
     "text": [
      "isi list terbaru setelah di append [9, 8, 7, 10]\n"
     ]
    }
   ],
   "source": [
    "listx.append(10)\n",
    "print(f\"isi list terbaru setelah di append {listx}\")\n"
   ]
  },
  {
   "cell_type": "code",
   "execution_count": 115,
   "id": "e236b112",
   "metadata": {},
   "outputs": [
    {
     "name": "stdout",
     "output_type": "stream",
     "text": [
      "isi list terbaru setelah di append [9, 8, 7, 10, [0, 1, 2]]\n"
     ]
    }
   ],
   "source": [
    "listx.append([0,1,2]) \n",
    "print(f\"isi list terbaru setelah di append {listx}\")"
   ]
  },
  {
   "cell_type": "code",
   "execution_count": 116,
   "id": "1e797606",
   "metadata": {},
   "outputs": [],
   "source": [
    "def changeme( mylist ):\n",
    "   \"This changes a passed list into this function\"\n",
    "   mylist.append([1,2,3,4]);\n",
    "   print(\"Values inside the function: \", mylist)\n",
    "   return  # none "
   ]
  },
  {
   "cell_type": "code",
   "execution_count": 117,
   "id": "15add60e",
   "metadata": {},
   "outputs": [
    {
     "name": "stdout",
     "output_type": "stream",
     "text": [
      "Values inside the function:  [10, 20, 30, [1, 2, 3, 4]]\n",
      "Values outside the function:  [10, 20, 30, [1, 2, 3, 4]]\n"
     ]
    }
   ],
   "source": [
    "mylist1 = [10,20,30];\n",
    "changeme( mylist1 );\n",
    "\n",
    "print(\"Values outside the function: \", mylist1)"
   ]
  },
  {
   "cell_type": "code",
   "execution_count": 118,
   "id": "2a3ab723",
   "metadata": {},
   "outputs": [],
   "source": [
    "def changeme1( mylist2 ):\n",
    "   \"This changes a passed list into this function\"\n",
    "   mylist2 = [1,2,3,4]; # This would assig new reference in mylist\n",
    "   print(\"Values inside the function: \", mylist2)\n",
    "   return "
   ]
  },
  {
   "cell_type": "code",
   "execution_count": 119,
   "id": "576c57cc",
   "metadata": {},
   "outputs": [
    {
     "name": "stdout",
     "output_type": "stream",
     "text": [
      "Values inside the function:  [1, 2, 3, 4]\n",
      "Values outside the function:  [10, 20, 30]\n"
     ]
    }
   ],
   "source": [
    "mylist3 = [10,20,30];\n",
    "changeme1( mylist3 );\n",
    "print(\"Values outside the function: \", mylist3)"
   ]
  },
  {
   "cell_type": "code",
   "execution_count": 120,
   "id": "676d0ed0",
   "metadata": {},
   "outputs": [],
   "source": [
    "def changeme2( mylist2 ):\n",
    "   \"This changes a passed list into this function\"\n",
    "   mylist2 = [1,2,3,4]; # This would assig new reference in mylist\n",
    "   print(\"Values inside the function: \", mylist2)\n",
    "   return mylist2"
   ]
  },
  {
   "cell_type": "code",
   "execution_count": 121,
   "id": "ab7a62c3",
   "metadata": {},
   "outputs": [
    {
     "ename": "NameError",
     "evalue": "name 'mylist2' is not defined",
     "output_type": "error",
     "traceback": [
      "\u001b[1;31m---------------------------------------------------------------------------\u001b[0m",
      "\u001b[1;31mNameError\u001b[0m                                 Traceback (most recent call last)",
      "\u001b[1;32mC:\\Users\\ASUS-X~1\\AppData\\Local\\Temp/ipykernel_2168/3731227321.py\u001b[0m in \u001b[0;36m<module>\u001b[1;34m\u001b[0m\n\u001b[0;32m      1\u001b[0m \u001b[0mmylist\u001b[0m \u001b[1;33m=\u001b[0m \u001b[1;33m[\u001b[0m\u001b[1;36m10\u001b[0m\u001b[1;33m,\u001b[0m\u001b[1;36m20\u001b[0m\u001b[1;33m,\u001b[0m\u001b[1;36m30\u001b[0m\u001b[1;33m]\u001b[0m\u001b[1;33m;\u001b[0m\u001b[1;33m\u001b[0m\u001b[1;33m\u001b[0m\u001b[0m\n\u001b[1;32m----> 2\u001b[1;33m \u001b[0mmylist2\u001b[0m \u001b[1;33m=\u001b[0m \u001b[0mchangeme2\u001b[0m\u001b[1;33m(\u001b[0m \u001b[0mmylist2\u001b[0m \u001b[1;33m)\u001b[0m\u001b[1;33m;\u001b[0m\u001b[1;33m\u001b[0m\u001b[1;33m\u001b[0m\u001b[0m\n\u001b[0m\u001b[0;32m      3\u001b[0m \u001b[0mprint\u001b[0m\u001b[1;33m(\u001b[0m\u001b[1;34m\"Values outside the function: \"\u001b[0m\u001b[1;33m,\u001b[0m \u001b[0mmylist2\u001b[0m\u001b[1;33m)\u001b[0m\u001b[1;33m\u001b[0m\u001b[1;33m\u001b[0m\u001b[0m\n",
      "\u001b[1;31mNameError\u001b[0m: name 'mylist2' is not defined"
     ]
    }
   ],
   "source": [
    "mylist = [10,20,30];\n",
    "mylist2 = changeme2( mylist2 );\n",
    "print(\"Values outside the function: \", mylist2)"
   ]
  },
  {
   "cell_type": "code",
   "execution_count": null,
   "id": "77be63f8",
   "metadata": {},
   "outputs": [],
   "source": [
    "def hitung(amt  ,disc  ,saldo ):\n",
    "    \"hitung sisa saldo\"\n",
    "    saldo -= amt - disc            # saldo = saldo - amt - disc \n",
    "    print(\"hitung saldo selesai \",saldo) \n",
    "    return saldo\n",
    "\n",
    "amt = 1000\n",
    "disc = 10 \n",
    "saldo = 5000\n",
    "saldo = hitung(amt, disc, saldo)\n",
    "\n",
    "print(f'Nominal belanja : {amt}')\n",
    "print(f'Discount        : - {disc}')\n",
    "print(f\"Saldo sekarang : {saldo}\")  "
   ]
  },
  {
   "cell_type": "markdown",
   "id": "211d0e68",
   "metadata": {},
   "source": [
    "## Function Arguments"
   ]
  },
  {
   "cell_type": "code",
   "execution_count": null,
   "id": "6d483a13",
   "metadata": {},
   "outputs": [],
   "source": [
    "def printme( str ):\n",
    "   \"This prints a passed string into this function\"\n",
    "   print(str)\n",
    "   return;\n",
    "\n",
    "printme(\"gg geming\")  "
   ]
  },
  {
   "cell_type": "code",
   "execution_count": null,
   "id": "8ac907b5",
   "metadata": {},
   "outputs": [],
   "source": [
    "printme()"
   ]
  },
  {
   "cell_type": "code",
   "execution_count": null,
   "id": "e8c2b83b",
   "metadata": {},
   "outputs": [],
   "source": [
    "def func(name, job):\n",
    "    print(name, 'is a', job)\n",
    "\n",
    "func('Jack', 'developer')\n"
   ]
  },
  {
   "cell_type": "markdown",
   "id": "7633fbaf",
   "metadata": {},
   "source": [
    "## Keyword Arguments"
   ]
  },
  {
   "cell_type": "code",
   "execution_count": null,
   "id": "0414919d",
   "metadata": {},
   "outputs": [],
   "source": [
    "def printme( str1 ):\n",
    "    \"This prints a passed string into this function\"\n",
    "    print(str1)\n",
    "    return;\n",
    "\n",
    "\n",
    "printme(str1= \"Hacktiv8\")"
   ]
  },
  {
   "cell_type": "code",
   "execution_count": null,
   "id": "01415e88",
   "metadata": {},
   "outputs": [],
   "source": [
    "def func(name, job):\n",
    "    print(name, 'is a', job)"
   ]
  },
  {
   "cell_type": "code",
   "execution_count": null,
   "id": "0a354c13",
   "metadata": {},
   "outputs": [],
   "source": [
    "func(name='Jack', job='developer')"
   ]
  },
  {
   "cell_type": "code",
   "execution_count": null,
   "id": "cdb94910",
   "metadata": {},
   "outputs": [],
   "source": [
    "func(job='developer', name='Jack') "
   ]
  },
  {
   "cell_type": "code",
   "execution_count": null,
   "id": "41eb1a46",
   "metadata": {},
   "outputs": [],
   "source": [
    "def printme(nama , intamt , fldisc):\n",
    "    \"This prints a passed string,int, float into this function\"\n",
    "    print(\" Nama :\",nama)\n",
    "    print(\" Amt  :\", intamt ) \n",
    "    print(\" Disc :\",fldisc)\n",
    "    return\n",
    "\n",
    "printme(intamt = 10 , fldisc = 90.5 , nama = \"pelanggan\")"
   ]
  },
  {
   "cell_type": "markdown",
   "id": "b799d9ba",
   "metadata": {},
   "source": [
    "## Default Arguments"
   ]
  },
  {
   "cell_type": "code",
   "execution_count": null,
   "id": "4d932824",
   "metadata": {},
   "outputs": [],
   "source": [
    "\n",
    "def totalInvoice( name, amt,  disc=100 ):\n",
    "    \"This prints a passed info into this function\"\n",
    "    print(\"Name: \", name)\n",
    "    print(\"Amt: \", amt)\n",
    "    print(\"Disc:\", disc) \n",
    "    total = amt - disc \n",
    "    print(10*\"==\")\n",
    "    print(\"Total:\",total)\n",
    "    return"
   ]
  },
  {
   "cell_type": "code",
   "execution_count": null,
   "id": "a162724b",
   "metadata": {},
   "outputs": [],
   "source": [
    "print(\"Invoice : \",1) \n",
    "totalInvoice( amt=50000, name=\"hacktiv8\", disc = 5000 )\n",
    "print(\"\\n\")"
   ]
  },
  {
   "cell_type": "code",
   "execution_count": null,
   "id": "15dd705e",
   "metadata": {},
   "outputs": [],
   "source": [
    "print(10*\"###\")\n",
    "print(\"\\n\")\n",
    "print(\"Invoice : \",2) \n",
    "totalInvoice( name=\"Jhon\",  amt=10000)"
   ]
  },
  {
   "cell_type": "markdown",
   "id": "ced39384",
   "metadata": {},
   "source": [
    "## Variable Length Arguments"
   ]
  },
  {
   "cell_type": "code",
   "execution_count": null,
   "id": "718507fe",
   "metadata": {},
   "outputs": [],
   "source": [
    "def print_arguments(*args):\n",
    "    print(type(args))\n",
    "    print(args)"
   ]
  },
  {
   "cell_type": "code",
   "execution_count": null,
   "id": "0fab47a0",
   "metadata": {},
   "outputs": [],
   "source": [
    "print_arguments(1, 54, 60, 8, 98, 12,1,1,1,2,3,3,4)"
   ]
  },
  {
   "cell_type": "code",
   "execution_count": null,
   "id": "ad60fc3f",
   "metadata": {},
   "outputs": [],
   "source": [
    "print_arguments()"
   ]
  },
  {
   "cell_type": "code",
   "execution_count": null,
   "id": "e46518d7",
   "metadata": {},
   "outputs": [],
   "source": [
    "def printinfo( arg1, *vartuple ):\n",
    "    \"This prints a variable passed arguments\"\n",
    "    print(\"Output is: \")\n",
    "    print(arg1)\n",
    "    print(vartuple)\n",
    "    print(type(vartuple))\n",
    "    \n",
    "    for var in vartuple:\n",
    "        print(var)\n",
    "    \n",
    "    print(\"function done\")\n",
    "    return;"
   ]
  },
  {
   "cell_type": "code",
   "execution_count": null,
   "id": "0058fdc7",
   "metadata": {},
   "outputs": [],
   "source": [
    "printinfo(10)"
   ]
  },
  {
   "cell_type": "code",
   "execution_count": null,
   "id": "3ae017c0",
   "metadata": {},
   "outputs": [],
   "source": [
    "printinfo(70, 60,50,10,20)"
   ]
  },
  {
   "cell_type": "code",
   "execution_count": null,
   "id": "b3c2498f",
   "metadata": {},
   "outputs": [],
   "source": [
    "def func_satu(a,b,c): \n",
    "    \"func statu\" \n",
    "    print(a,b)\n",
    "    print(c)\n",
    "    return"
   ]
  },
  {
   "cell_type": "code",
   "execution_count": 122,
   "id": "af8855b9",
   "metadata": {},
   "outputs": [],
   "source": [
    "def countdown(num):  \n",
    "    newnum = 0\n",
    "    if num < 1: \n",
    "        print('Stop')\n",
    "        newnum = num \n",
    "        \n",
    "        return newnum\n",
    "    else:\n",
    "        print(num)           \n",
    "        newnum = countdown(num-1)\n",
    "    \n",
    "    return newnum "
   ]
  },
  {
   "cell_type": "code",
   "execution_count": 123,
   "id": "2d6ced02",
   "metadata": {},
   "outputs": [
    {
     "name": "stdout",
     "output_type": "stream",
     "text": [
      "10 20\n",
      "{1, 3, 4, 6, 7, 8}\n"
     ]
    }
   ],
   "source": [
    "a = 10 \n",
    "b = 20 \n",
    "c= set({6,7,8,1,3,4,6})\n",
    "func_satu(a,b,c)"
   ]
  },
  {
   "cell_type": "code",
   "execution_count": 124,
   "id": "32f0e644",
   "metadata": {},
   "outputs": [
    {
     "data": {
      "text/plain": [
       "{0, 1, 2, 4, 5}"
      ]
     },
     "execution_count": 124,
     "metadata": {},
     "output_type": "execute_result"
    }
   ],
   "source": [
    "set({1,5,2,0,4})"
   ]
  },
  {
   "cell_type": "code",
   "execution_count": 125,
   "id": "55efd8f1",
   "metadata": {},
   "outputs": [
    {
     "name": "stdout",
     "output_type": "stream",
     "text": [
      "Output is: \n",
      "1\n",
      "('Hello', 12, 4, 5, 6, {0, 1, 2, 4, 5})\n",
      "<class 'tuple'>\n",
      "Hello\n",
      "12\n",
      "4\n",
      "5\n",
      "6\n",
      "{0, 1, 2, 4, 5}\n",
      "function done\n"
     ]
    }
   ],
   "source": [
    "printinfo(1,\"Hello\", 12,4,5,6, set({1,5,2,0,4}))"
   ]
  },
  {
   "cell_type": "markdown",
   "id": "71d87b07",
   "metadata": {},
   "source": [
    "## **kwargs"
   ]
  },
  {
   "cell_type": "code",
   "execution_count": 126,
   "id": "6d33189b",
   "metadata": {},
   "outputs": [],
   "source": [
    "def print_arguments(**kwargs):\n",
    "    print(kwargs)"
   ]
  },
  {
   "cell_type": "code",
   "execution_count": 127,
   "id": "2da471bb",
   "metadata": {},
   "outputs": [
    {
     "name": "stdout",
     "output_type": "stream",
     "text": [
      "{'name': 'Ahmad', 'age': 14, 'job': 'student collage'}\n"
     ]
    }
   ],
   "source": [
    "print_arguments(name='Ahmad', age=14, job='student collage')"
   ]
  },
  {
   "cell_type": "code",
   "execution_count": 128,
   "id": "cf7e96b9",
   "metadata": {},
   "outputs": [],
   "source": [
    "def add(x, y, *args, **kwargs):\n",
    "    sum = x + y   \n",
    "    print(\"Sum x + y = \",sum)\n",
    "    \n",
    "    sumarg = 0 \n",
    "    for a in args:\n",
    "        sumarg += a     \n",
    "        print(\"sumarg :\", sumarg) \n",
    "    \n",
    "    print(\"total sumarg : \",sumarg)\n",
    "    \n",
    "    sumkarg = 0     \n",
    "    for k, v in kwargs.items():\n",
    "        sumkarg += v        \n",
    "        print(\"sumkarg :\", sumkarg) \n",
    "        \n",
    "    print(\"total sumkarg : \",sumkarg)   \n",
    "    \n",
    "    return sum + sumarg + sumkarg "
   ]
  },
  {
   "cell_type": "code",
   "execution_count": 129,
   "id": "c3d736a2",
   "metadata": {},
   "outputs": [
    {
     "name": "stdout",
     "output_type": "stream",
     "text": [
      "Sum x + y =  3\n",
      "sumarg : 3\n",
      "sumarg : 7\n",
      "total sumarg :  7\n",
      "sumkarg : 5\n",
      "sumkarg : 11\n",
      "total sumkarg :  11\n",
      "Print total  21\n"
     ]
    }
   ],
   "source": [
    "total = add(1, 2, *(3, 4), **{\"k1\": 5, \"k2\": 6})\n",
    "print(\"Print total \", total)"
   ]
  },
  {
   "cell_type": "markdown",
   "id": "525300e2",
   "metadata": {},
   "source": [
    "## The return Statement"
   ]
  },
  {
   "cell_type": "code",
   "execution_count": 130,
   "id": "0b337062",
   "metadata": {},
   "outputs": [
    {
     "name": "stdout",
     "output_type": "stream",
     "text": [
      "Inside the function :  30\n",
      "Outside the function :  40\n"
     ]
    }
   ],
   "source": [
    "def sum(arg1, arg2):\n",
    "    total2 = 0 \n",
    "    # Add both the parameters and return them.\"\n",
    "    total = arg1 + arg2  # total = 30 \n",
    "    total2 = total + arg1  # total2 = 30 + 10 = 40 \n",
    "    print(\"Inside the function : \", total) # 30 \n",
    "    return total2\n",
    "\n",
    "# Now you can call sum function\n",
    "total = sum(10, 20)\n",
    "print(\"Outside the function : \", total) "
   ]
  },
  {
   "cell_type": "markdown",
   "id": "fed33fed",
   "metadata": {},
   "source": [
    "## Return Multiple Values"
   ]
  },
  {
   "cell_type": "code",
   "execution_count": 131,
   "id": "a2963c17",
   "metadata": {},
   "outputs": [
    {
     "name": "stdout",
     "output_type": "stream",
     "text": [
      "(5, 1)\n",
      "<class 'tuple'>\n"
     ]
    }
   ],
   "source": [
    "def func(a, b):\n",
    "    return a+b , a-b\n",
    "\n",
    "result = func(3, 2)\n",
    "\n",
    "print(result)\n",
    "print(type(result))"
   ]
  },
  {
   "cell_type": "code",
   "execution_count": 132,
   "id": "e856ea88",
   "metadata": {},
   "outputs": [
    {
     "name": "stdout",
     "output_type": "stream",
     "text": [
      "Addition:  12\n",
      "Subtraction:  8\n",
      "Multiplication:  20\n",
      "Division:  5.0\n"
     ]
    }
   ],
   "source": [
    "def arithmetic(num1, num2):\n",
    "    add = num1 + num2\n",
    "    sub = num1 - num2\n",
    "    multiply = num1 * num2\n",
    "    division = num1 / num2\n",
    "    # return four values\n",
    "    return add, sub, multiply, division\n",
    "\n",
    "# read four return values in four variables\n",
    "a, b, c, d = arithmetic(10, 2)\n",
    "\n",
    "print(\"Addition: \", a)\n",
    "print(\"Subtraction: \", b)\n",
    "print(\"Multiplication: \", c)\n",
    "print(\"Division: \", d)"
   ]
  },
  {
   "cell_type": "markdown",
   "id": "aefc6b7a",
   "metadata": {},
   "source": [
    "## Scope of Variables"
   ]
  },
  {
   "cell_type": "markdown",
   "id": "a317010b",
   "metadata": {},
   "source": [
    "### Global variables"
   ]
  },
  {
   "cell_type": "code",
   "execution_count": 133,
   "id": "8e301704",
   "metadata": {},
   "outputs": [
    {
     "name": "stdout",
     "output_type": "stream",
     "text": [
      "Inside the function :  30\n",
      "Outside the function global total :  10\n"
     ]
    }
   ],
   "source": [
    "total = 10 \n",
    "\n",
    "def  sum(arg1, arg2):\n",
    "    \" Add both the parameters and return them.\"\n",
    "    total = arg1 + arg2\n",
    "    print(\"Inside the function : \", total)\n",
    "    return total\n",
    "\n",
    "def min():\n",
    "    return \n",
    "     \n",
    "\n",
    "sum(10,20)\n",
    "print(\"Outside the function global total : \", total)\n"
   ]
  },
  {
   "cell_type": "code",
   "execution_count": 134,
   "id": "4ac29a17",
   "metadata": {},
   "outputs": [
    {
     "name": "stdout",
     "output_type": "stream",
     "text": [
      "50\n",
      "40\n"
     ]
    }
   ],
   "source": [
    "jumlahKucing = 20\n",
    "\n",
    "def jumlahHewan():\n",
    "    jumlahAnjing = 30\n",
    "    return jumlahKucing + jumlahAnjing  # 50 \n",
    "\n",
    "def jumlahHewan2():\n",
    "    return jumlahKucing + jumlahKucing  # 40 \n",
    "\n",
    "hewan = jumlahHewan() \n",
    "print(hewan)\n",
    "hewan2= jumlahHewan2()\n",
    "print(hewan2)"
   ]
  },
  {
   "cell_type": "markdown",
   "id": "74cb6f67",
   "metadata": {},
   "source": [
    "## Nested Functions"
   ]
  },
  {
   "cell_type": "code",
   "execution_count": 135,
   "id": "20b1fff7",
   "metadata": {},
   "outputs": [
    {
     "name": "stdout",
     "output_type": "stream",
     "text": [
      "6\n"
     ]
    }
   ],
   "source": [
    "def outer(a, b):\n",
    "    def inner(c, d):\n",
    "        return c + d\n",
    "    return inner(a, b)\n",
    "\n",
    "result = outer(2, 4)\n",
    "\n",
    "print(result)"
   ]
  },
  {
   "cell_type": "markdown",
   "id": "63a95f07",
   "metadata": {},
   "source": [
    "## Recursion"
   ]
  },
  {
   "cell_type": "code",
   "execution_count": 136,
   "id": "d73745fc",
   "metadata": {},
   "outputs": [
    {
     "name": "stdout",
     "output_type": "stream",
     "text": [
      "10\n",
      "9\n",
      "8\n",
      "7\n",
      "6\n",
      "5\n",
      "4\n",
      "3\n",
      "2\n",
      "1\n",
      "Stop\n",
      "\n",
      "\n",
      "Stop\n"
     ]
    }
   ],
   "source": [
    "hasilakhir = countdown(10)\n",
    "print(\"\\n\")\n",
    "hasil = countdown(0)"
   ]
  },
  {
   "cell_type": "code",
   "execution_count": 137,
   "id": "b4d79bc7",
   "metadata": {},
   "outputs": [],
   "source": [
    "def ispalindrome(word):\n",
    "    if len(word) < 2: return True\n",
    "    if word[0] != word[-1]: return False\n",
    "    return ispalindrome(word[1:-1])"
   ]
  },
  {
   "cell_type": "code",
   "execution_count": 138,
   "id": "2c24d928",
   "metadata": {},
   "outputs": [
    {
     "name": "stdout",
     "output_type": "stream",
     "text": [
      "False\n"
     ]
    }
   ],
   "source": [
    "print(ispalindrome(\"amam\")\n",
    "     )"
   ]
  },
  {
   "cell_type": "code",
   "execution_count": 139,
   "id": "bbeccde5",
   "metadata": {},
   "outputs": [
    {
     "name": "stdout",
     "output_type": "stream",
     "text": [
      "True\n"
     ]
    }
   ],
   "source": [
    "print(ispalindrome(\"nun\"))"
   ]
  },
  {
   "cell_type": "markdown",
   "id": "90457e9c",
   "metadata": {},
   "source": [
    "## dictionary of functions "
   ]
  },
  {
   "cell_type": "code",
   "execution_count": 140,
   "id": "e611a7d7",
   "metadata": {},
   "outputs": [],
   "source": [
    "def findSquare(x):\n",
    "    return x ** 2\n",
    "\n",
    "def findCube(x):\n",
    "    return x ** 3\n",
    "\n"
   ]
  },
  {
   "cell_type": "code",
   "execution_count": 141,
   "id": "63163ac2",
   "metadata": {},
   "outputs": [
    {
     "name": "stdout",
     "output_type": "stream",
     "text": [
      "9\n",
      "27\n"
     ]
    }
   ],
   "source": [
    "# Create a dictionary of functions\n",
    "exponent = {'square': findSquare, 'cube': findCube}\n",
    "\n",
    "print(exponent['square'](3))\n",
    "# Prints 9\n",
    "print(exponent['cube'](3))\n",
    "# Prints 27"
   ]
  },
  {
   "cell_type": "code",
   "execution_count": 142,
   "id": "5e7b856b",
   "metadata": {},
   "outputs": [
    {
     "name": "stdout",
     "output_type": "stream",
     "text": [
      "Hello, Universe!\n"
     ]
    }
   ],
   "source": [
    "x=0\n",
    "if x:\n",
    "   def hello():\n",
    "        print('Hello, World!')\n",
    "else:\n",
    "    def hello():\n",
    "        print('Hello, Universe!')\n",
    "\n",
    "hello()\n",
    "# Prints Hello, Universe!"
   ]
  },
  {
   "cell_type": "markdown",
   "id": "f9f8696a",
   "metadata": {},
   "source": [
    "## Lambda Function / The Anonymous Functions"
   ]
  },
  {
   "cell_type": "code",
   "execution_count": 143,
   "id": "6cd8d575",
   "metadata": {},
   "outputs": [
    {
     "name": "stdout",
     "output_type": "stream",
     "text": [
      "Value of total :  30\n",
      "Value of total :  30\n"
     ]
    }
   ],
   "source": [
    "sum = lambda arg1 , arg2 : arg1 + arg2; \n",
    "\n",
    "def sum1(arg1, arg2):\n",
    "    return arg1 + arg2 \n",
    "\n",
    "\n",
    "# Now you can call sum as a function\n",
    "print(\"Value of total : \",sum(10,20))\n",
    "print(\"Value of total : \",sum1(10,20))"
   ]
  },
  {
   "cell_type": "markdown",
   "id": "967d277d",
   "metadata": {},
   "source": [
    "## Docstring"
   ]
  },
  {
   "cell_type": "code",
   "execution_count": 144,
   "id": "85d749d9",
   "metadata": {},
   "outputs": [],
   "source": [
    "def hello():\n",
    "    \"\"\"This function prints\n",
    "       message on the screen\"\"\"  \n",
    "    print('Hello, World!')"
   ]
  },
  {
   "cell_type": "code",
   "execution_count": 145,
   "id": "6f30841c",
   "metadata": {},
   "outputs": [
    {
     "name": "stdout",
     "output_type": "stream",
     "text": [
      "Help on function hello in module __main__:\n",
      "\n",
      "hello()\n",
      "    This function prints\n",
      "    message on the screen\n",
      "\n"
     ]
    }
   ],
   "source": [
    "help(hello)"
   ]
  },
  {
   "cell_type": "code",
   "execution_count": 146,
   "id": "c15ac96b",
   "metadata": {},
   "outputs": [
    {
     "name": "stdout",
     "output_type": "stream",
     "text": [
      "Hello, World!\n"
     ]
    }
   ],
   "source": [
    "hello  ()"
   ]
  },
  {
   "cell_type": "markdown",
   "id": "5914a246",
   "metadata": {},
   "source": [
    "## CRUD"
   ]
  },
  {
   "cell_type": "code",
   "execution_count": 147,
   "id": "49a0770d",
   "metadata": {},
   "outputs": [],
   "source": [
    "buku = []\n",
    "\n",
    "# fungsi untuk menampilkan semua data\n",
    "def show_data():\n",
    "    if len(buku) <= 0:\n",
    "        print (\"BELUM ADA DATA\")\n",
    "    else:\n",
    "        for indeks in range(len(buku)):\n",
    "            print (\"[%d] %s\" % (indeks, buku[indeks]))\n",
    "\n",
    "\n",
    "# fungsi untuk menambah data\n",
    "def insert_data():\n",
    "    buku_baru = input(\"Judul Buku: \")\n",
    "    buku.append(buku_baru)\n",
    "\n",
    "# fungsi untuk edit data\n",
    "def edit_data():\n",
    "    show_data()\n",
    "    indeks = input(\"Inputkan ID buku: \")\n",
    "    if(int(indeks) > len(buku)):\n",
    "        print(\"ID salah\")\n",
    "    else:\n",
    "        judul_baru = input(\"Judul baru: \")\n",
    "        buku[int(indeks)] = judul_baru\n",
    "\n",
    "# fungsi untuk menhapus data\n",
    "def delete_data():\n",
    "    show_data()\n",
    "    indeks = input(\"Inputkan ID buku: \")\n",
    "    if(int(indeks) > len(buku)):\n",
    "        print (\"ID salah\")\n",
    "    else:\n",
    "        buku.remove(buku[int(indeks)])\n",
    "\n",
    "# fungsi untuk menampilkan menu\n",
    "def show_menu():\n",
    "    print (\"\\n\")\n",
    "    print (\"----------- MENU ----------\")\n",
    "    print (\"[1] Show Data\")\n",
    "    print (\"[2] Insert Data\")\n",
    "    print (\"[3] Edit Data\")\n",
    "    print (\"[4] Delete Data\")\n",
    "    print (\"[5] Exit\")\n",
    "    \n",
    "    menu =input(\"PILIH MENU> \")\n",
    "    print (\"\\n\")\n",
    "\n",
    "    if int(menu) == 1:\n",
    "        show_data()\n",
    "    elif int(menu) == 2:\n",
    "        insert_data()\n",
    "    elif int(menu) == 3:\n",
    "        edit_data()\n",
    "    elif int(menu) == 4:\n",
    "        delete_data()\n",
    "    elif int(menu) == 5:\n",
    "        exit()\n",
    "    else:\n",
    "        print (\"Salah pilih!\")"
   ]
  },
  {
   "cell_type": "code",
   "execution_count": 148,
   "id": "2d7ec8b5",
   "metadata": {},
   "outputs": [
    {
     "data": {
      "text/plain": [
       "[]"
      ]
     },
     "execution_count": 148,
     "metadata": {},
     "output_type": "execute_result"
    }
   ],
   "source": [
    "buku"
   ]
  },
  {
   "cell_type": "code",
   "execution_count": 149,
   "id": "e7b3cb2f",
   "metadata": {},
   "outputs": [
    {
     "name": "stdout",
     "output_type": "stream",
     "text": [
      "Terbilang :  Seratus Dua Puluh Tiga Ribu Empat Ratus Lima Puluh Enam\n"
     ]
    }
   ],
   "source": [
    "def Terbilang(bil):\n",
    "    angka = [\"\",\"Satu\",\"Dua\",\"Tiga\",\"Empat\",\"Lima\",\"Enam\",\n",
    "             \"Tujuh\",\"Delapan\",\"Sembilan\",\"Sepuluh\",\"Sebelas\"]\n",
    "    Hasil = \" \"\n",
    "    n = int(bil)\n",
    "    if n>= 0 and n <= 11:\n",
    "        Hasil = angka[n]\n",
    "    elif n <20:\n",
    "        Hasil = Terbilang (n-10) + \" Belas \"\n",
    "    elif n <100:\n",
    "        Hasil = Terbilang (n/10) + \" Puluh \" + Terbilang (n%10)\n",
    "    elif n <200:\n",
    "        Hasil = \" Seratus \" + Terbilang (n-100)\n",
    "    elif n <1000:\n",
    "        Hasil = Terbilang (n/100) + \" Ratus \" + Terbilang (n%100)\n",
    "    elif n <2000:\n",
    "        Hasil = \" Seribu \" + Terbilang (n-1000)\n",
    "    elif n <1000000:\n",
    "        Hasil = Terbilang (n/1000) + \" Ribu \" + Terbilang (n%1000)\n",
    "    elif n <1000000000:\n",
    "        Hasil = Terbilang (n/1000000) + \" Juta \" + Terbilang (n%1000000)\n",
    "    elif n <1000000000000:\n",
    "        Hasil = Terbilang (n/1000000000) + \" Milyar \" + Terbilang (n%1000000000)\n",
    "    elif n <1000000000000000:\n",
    "        Hasil = Terbilang (n/1000000000000) + \" Triliyun \" + Terbilang (n%1000000000000)\n",
    "    else:\n",
    "        Hasil = \"Angka Hanya sama Triliyun\"\n",
    "\n",
    "    return Hasil\n",
    "\n",
    "\n",
    "\n",
    "huruf = Terbilang(\"123456\")\n",
    "print(f\"Terbilang : {huruf}\")"
   ]
  },
  {
   "cell_type": "code",
   "execution_count": 150,
   "id": "9bb0e396",
   "metadata": {},
   "outputs": [
    {
     "name": "stdout",
     "output_type": "stream",
     "text": [
      "Terbilang : Satu Milyar Sepuluh rupiah\n"
     ]
    }
   ],
   "source": [
    "huruf = Terbilang(\"1000000010\")\n",
    "print(f\"Terbilang : {huruf}\", \"rupiah\")"
   ]
  },
  {
   "cell_type": "code",
   "execution_count": null,
   "id": "efa48c18",
   "metadata": {},
   "outputs": [],
   "source": []
  }
 ],
 "metadata": {
  "kernelspec": {
   "display_name": "Python 3 (ipykernel)",
   "language": "python",
   "name": "python3"
  },
  "language_info": {
   "codemirror_mode": {
    "name": "ipython",
    "version": 3
   },
   "file_extension": ".py",
   "mimetype": "text/x-python",
   "name": "python",
   "nbconvert_exporter": "python",
   "pygments_lexer": "ipython3",
   "version": "3.9.7"
  },
  "toc": {
   "base_numbering": 1,
   "nav_menu": {},
   "number_sections": false,
   "sideBar": true,
   "skip_h1_title": false,
   "title_cell": "Table of Contents",
   "title_sidebar": "Contents",
   "toc_cell": false,
   "toc_position": {},
   "toc_section_display": true,
   "toc_window_display": true
  }
 },
 "nbformat": 4,
 "nbformat_minor": 5
}
