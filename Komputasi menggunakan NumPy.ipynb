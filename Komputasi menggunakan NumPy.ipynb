{
 "cells": [
  {
   "cell_type": "markdown",
   "id": "5f54d41e",
   "metadata": {},
   "source": [
    "# Komputasi Menggunakan Pustaka NumPy"
   ]
  },
  {
   "cell_type": "markdown",
   "id": "46ecabcf",
   "metadata": {},
   "source": [
    "## Dasar NumPy"
   ]
  },
  {
   "cell_type": "markdown",
   "id": "8e5649c4",
   "metadata": {},
   "source": [
    "### Python List"
   ]
  },
  {
   "cell_type": "code",
   "execution_count": 9,
   "id": "074d9958",
   "metadata": {},
   "outputs": [
    {
     "data": {
      "text/plain": [
       "'1.20.3'"
      ]
     },
     "execution_count": 9,
     "metadata": {},
     "output_type": "execute_result"
    }
   ],
   "source": [
    "import numpy as np\n",
    "np.__version__"
   ]
  },
  {
   "cell_type": "code",
   "execution_count": 1,
   "id": "d8d7b001",
   "metadata": {},
   "outputs": [],
   "source": [
    "ip_as_list=[4.0, 3.79, 3.0]"
   ]
  },
  {
   "cell_type": "code",
   "execution_count": 2,
   "id": "860f57d4",
   "metadata": {},
   "outputs": [],
   "source": [
    "ip_as_list.append(3.2)"
   ]
  },
  {
   "cell_type": "code",
   "execution_count": 3,
   "id": "68128fa1",
   "metadata": {},
   "outputs": [
    {
     "data": {
      "text/plain": [
       "[4.0, 3.79, 3.0, 3.2]"
      ]
     },
     "execution_count": 3,
     "metadata": {},
     "output_type": "execute_result"
    }
   ],
   "source": [
    "ip_as_list"
   ]
  },
  {
   "cell_type": "code",
   "execution_count": 4,
   "id": "341f42f9",
   "metadata": {},
   "outputs": [],
   "source": [
    "ip_as_list.insert(4, 3.4)"
   ]
  },
  {
   "cell_type": "code",
   "execution_count": 5,
   "id": "714e1b43",
   "metadata": {},
   "outputs": [
    {
     "data": {
      "text/plain": [
       "[4.0, 3.79, 3.0, 3.2, 3.4]"
      ]
     },
     "execution_count": 5,
     "metadata": {},
     "output_type": "execute_result"
    }
   ],
   "source": [
    "ip_as_list"
   ]
  },
  {
   "cell_type": "code",
   "execution_count": 6,
   "id": "6fc73132",
   "metadata": {},
   "outputs": [
    {
     "data": {
      "text/plain": [
       "3.0"
      ]
     },
     "execution_count": 6,
     "metadata": {},
     "output_type": "execute_result"
    }
   ],
   "source": [
    "ip_as_list.pop(2)"
   ]
  },
  {
   "cell_type": "code",
   "execution_count": 7,
   "id": "d92550fe",
   "metadata": {},
   "outputs": [
    {
     "data": {
      "text/plain": [
       "[4.0, 3.79, 3.2, 3.4]"
      ]
     },
     "execution_count": 7,
     "metadata": {},
     "output_type": "execute_result"
    }
   ],
   "source": [
    "ip_as_list"
   ]
  },
  {
   "cell_type": "markdown",
   "id": "e9680ce5",
   "metadata": {},
   "source": [
    "## NumPy Array"
   ]
  },
  {
   "cell_type": "code",
   "execution_count": 14,
   "id": "a251842a",
   "metadata": {},
   "outputs": [],
   "source": [
    "ip=np.array(ip_as_list,np.float16)"
   ]
  },
  {
   "cell_type": "code",
   "execution_count": 15,
   "id": "d920b660",
   "metadata": {},
   "outputs": [
    {
     "data": {
      "text/plain": [
       "array([4.  , 3.79, 3.2 , 3.4 ], dtype=float16)"
      ]
     },
     "execution_count": 15,
     "metadata": {},
     "output_type": "execute_result"
    }
   ],
   "source": [
    "ip"
   ]
  },
  {
   "cell_type": "code",
   "execution_count": 16,
   "id": "b50da259",
   "metadata": {},
   "outputs": [
    {
     "data": {
      "text/plain": [
       "dtype('float16')"
      ]
     },
     "execution_count": 16,
     "metadata": {},
     "output_type": "execute_result"
    }
   ],
   "source": [
    "ip.dtype"
   ]
  },
  {
   "cell_type": "code",
   "execution_count": 17,
   "id": "db727049",
   "metadata": {},
   "outputs": [
    {
     "data": {
      "text/plain": [
       "4"
      ]
     },
     "execution_count": 17,
     "metadata": {},
     "output_type": "execute_result"
    }
   ],
   "source": [
    "ip.size"
   ]
  },
  {
   "cell_type": "markdown",
   "id": "d1ae6ae5",
   "metadata": {},
   "source": [
    "### Study Log"
   ]
  },
  {
   "cell_type": "code",
   "execution_count": 43,
   "id": "ce816a82",
   "metadata": {},
   "outputs": [],
   "source": [
    "menit_belajar=np.array(np.zeros(100),np.uint16)"
   ]
  },
  {
   "cell_type": "code",
   "execution_count": 44,
   "id": "db8864e5",
   "metadata": {},
   "outputs": [
    {
     "data": {
      "text/plain": [
       "array([0, 0, 0, 0, 0, 0, 0, 0, 0, 0, 0, 0, 0, 0, 0, 0, 0, 0, 0, 0, 0, 0,\n",
       "       0, 0, 0, 0, 0, 0, 0, 0, 0, 0, 0, 0, 0, 0, 0, 0, 0, 0, 0, 0, 0, 0,\n",
       "       0, 0, 0, 0, 0, 0, 0, 0, 0, 0, 0, 0, 0, 0, 0, 0, 0, 0, 0, 0, 0, 0,\n",
       "       0, 0, 0, 0, 0, 0, 0, 0, 0, 0, 0, 0, 0, 0, 0, 0, 0, 0, 0, 0, 0, 0,\n",
       "       0, 0, 0, 0, 0, 0, 0, 0, 0, 0, 0, 0], dtype=uint16)"
      ]
     },
     "execution_count": 44,
     "metadata": {},
     "output_type": "execute_result"
    }
   ],
   "source": [
    "menit_belajar"
   ]
  },
  {
   "cell_type": "code",
   "execution_count": 45,
   "id": "83154966",
   "metadata": {},
   "outputs": [
    {
     "name": "stdout",
     "output_type": "stream",
     "text": [
      "Variable        Type       Data/Info\n",
      "------------------------------------\n",
      "autopep8        module     <module 'autopep8' from '<...>e-packages\\\\autopep8.py'>\n",
      "ip              ndarray    4: 4 elems, type `float16`, 8 bytes\n",
      "ip_as_list      list       n=4\n",
      "ip_mahasiswa    ndarray    4x4: 16 elems, type `float16`, 32 bytes\n",
      "json            module     <module 'json' from 'C:\\\\<...>\\lib\\\\json\\\\__init__.py'>\n",
      "menit_belajar   ndarray    100: 100 elems, type `uint16`, 200 bytes\n",
      "np              module     <module 'numpy' from 'C:\\<...>ges\\\\numpy\\\\__init__.py'>\n",
      "study_minute    ndarray    2: 2 elems, type `object`, 16 bytes\n",
      "study_minutes   ndarray    2: 2 elems, type `object`, 16 bytes\n"
     ]
    }
   ],
   "source": [
    "%whos"
   ]
  },
  {
   "cell_type": "markdown",
   "id": "f1b270c0",
   "metadata": {},
   "source": [
    "## Array Multidimension"
   ]
  },
  {
   "cell_type": "code",
   "execution_count": 24,
   "id": "773a498f",
   "metadata": {},
   "outputs": [],
   "source": [
    "ip_mahasiswa=np.array([\n",
    "    [4.0, 3.6, 4.0, 3.34], \n",
    "    [3.9, 4.0, 3.56, 3.22], \n",
    "    [4.0, 3.34, 4.0, 3.1],\n",
    "    [3.2, 3.55, 3.77, 4.0],\n",
    "], np.float16)"
   ]
  },
  {
   "cell_type": "code",
   "execution_count": 25,
   "id": "213d4f7a",
   "metadata": {},
   "outputs": [
    {
     "data": {
      "text/plain": [
       "array([[4.  , 3.6 , 4.  , 3.34],\n",
       "       [3.9 , 4.  , 3.56, 3.22],\n",
       "       [4.  , 3.34, 4.  , 3.1 ],\n",
       "       [3.2 , 3.55, 3.77, 4.  ]], dtype=float16)"
      ]
     },
     "execution_count": 25,
     "metadata": {},
     "output_type": "execute_result"
    }
   ],
   "source": [
    "ip_mahasiswa"
   ]
  },
  {
   "cell_type": "code",
   "execution_count": 42,
   "id": "6150c13f",
   "metadata": {},
   "outputs": [
    {
     "data": {
      "text/plain": [
       "3.77"
      ]
     },
     "execution_count": 42,
     "metadata": {},
     "output_type": "execute_result"
    }
   ],
   "source": [
    "ip_mahasiswa[3,2]"
   ]
  },
  {
   "cell_type": "code",
   "execution_count": 30,
   "id": "b8a2954b",
   "metadata": {},
   "outputs": [
    {
     "data": {
      "text/plain": [
       "array([3.9 , 4.  , 3.56, 3.22], dtype=float16)"
      ]
     },
     "execution_count": 30,
     "metadata": {},
     "output_type": "execute_result"
    }
   ],
   "source": [
    "ip_mahasiswa[1]"
   ]
  },
  {
   "cell_type": "code",
   "execution_count": 31,
   "id": "a973f645",
   "metadata": {},
   "outputs": [
    {
     "data": {
      "text/plain": [
       "2"
      ]
     },
     "execution_count": 31,
     "metadata": {},
     "output_type": "execute_result"
    }
   ],
   "source": [
    "ip_mahasiswa.ndim"
   ]
  },
  {
   "cell_type": "markdown",
   "id": "be08a034",
   "metadata": {},
   "source": [
    "## Study Log Multidimension"
   ]
  },
  {
   "cell_type": "code",
   "execution_count": 46,
   "id": "454887bc",
   "metadata": {
    "scrolled": false
   },
   "outputs": [
    {
     "data": {
      "text/plain": [
       "array([[0, 0, 0, 0, 0, 0, 0, 0, 0, 0, 0, 0, 0, 0, 0, 0, 0, 0, 0, 0, 0, 0,\n",
       "        0, 0, 0, 0, 0, 0, 0, 0, 0, 0, 0, 0, 0, 0, 0, 0, 0, 0, 0, 0, 0, 0,\n",
       "        0, 0, 0, 0, 0, 0, 0, 0, 0, 0, 0, 0, 0, 0, 0, 0, 0, 0, 0, 0, 0, 0,\n",
       "        0, 0, 0, 0, 0, 0, 0, 0, 0, 0, 0, 0, 0, 0, 0, 0, 0, 0, 0, 0, 0, 0,\n",
       "        0, 0, 0, 0, 0, 0, 0, 0, 0, 0, 0, 0],\n",
       "       [0, 0, 0, 0, 0, 0, 0, 0, 0, 0, 0, 0, 0, 0, 0, 0, 0, 0, 0, 0, 0, 0,\n",
       "        0, 0, 0, 0, 0, 0, 0, 0, 0, 0, 0, 0, 0, 0, 0, 0, 0, 0, 0, 0, 0, 0,\n",
       "        0, 0, 0, 0, 0, 0, 0, 0, 0, 0, 0, 0, 0, 0, 0, 0, 0, 0, 0, 0, 0, 0,\n",
       "        0, 0, 0, 0, 0, 0, 0, 0, 0, 0, 0, 0, 0, 0, 0, 0, 0, 0, 0, 0, 0, 0,\n",
       "        0, 0, 0, 0, 0, 0, 0, 0, 0, 0, 0, 0]], dtype=uint16)"
      ]
     },
     "execution_count": 46,
     "metadata": {},
     "output_type": "execute_result"
    }
   ],
   "source": [
    "menit_belajar=np.array([\n",
    "    menit_belajar,\n",
    "    np.zeros(100,np.uint16)\n",
    "])\n",
    "menit_belajar"
   ]
  },
  {
   "cell_type": "code",
   "execution_count": 47,
   "id": "a5edfb56",
   "metadata": {},
   "outputs": [
    {
     "data": {
      "text/plain": [
       "(2, 100)"
      ]
     },
     "execution_count": 47,
     "metadata": {},
     "output_type": "execute_result"
    }
   ],
   "source": [
    "menit_belajar.shape"
   ]
  },
  {
   "cell_type": "code",
   "execution_count": 48,
   "id": "ba6c880d",
   "metadata": {},
   "outputs": [],
   "source": [
    "menit_belajar[0,0]=75"
   ]
  },
  {
   "cell_type": "code",
   "execution_count": 49,
   "id": "c179184b",
   "metadata": {},
   "outputs": [
    {
     "data": {
      "text/plain": [
       "array([[75,  0,  0,  0,  0,  0,  0,  0,  0,  0,  0,  0,  0,  0,  0,  0,\n",
       "         0,  0,  0,  0,  0,  0,  0,  0,  0,  0,  0,  0,  0,  0,  0,  0,\n",
       "         0,  0,  0,  0,  0,  0,  0,  0,  0,  0,  0,  0,  0,  0,  0,  0,\n",
       "         0,  0,  0,  0,  0,  0,  0,  0,  0,  0,  0,  0,  0,  0,  0,  0,\n",
       "         0,  0,  0,  0,  0,  0,  0,  0,  0,  0,  0,  0,  0,  0,  0,  0,\n",
       "         0,  0,  0,  0,  0,  0,  0,  0,  0,  0,  0,  0,  0,  0,  0,  0,\n",
       "         0,  0,  0,  0],\n",
       "       [ 0,  0,  0,  0,  0,  0,  0,  0,  0,  0,  0,  0,  0,  0,  0,  0,\n",
       "         0,  0,  0,  0,  0,  0,  0,  0,  0,  0,  0,  0,  0,  0,  0,  0,\n",
       "         0,  0,  0,  0,  0,  0,  0,  0,  0,  0,  0,  0,  0,  0,  0,  0,\n",
       "         0,  0,  0,  0,  0,  0,  0,  0,  0,  0,  0,  0,  0,  0,  0,  0,\n",
       "         0,  0,  0,  0,  0,  0,  0,  0,  0,  0,  0,  0,  0,  0,  0,  0,\n",
       "         0,  0,  0,  0,  0,  0,  0,  0,  0,  0,  0,  0,  0,  0,  0,  0,\n",
       "         0,  0,  0,  0]], dtype=uint16)"
      ]
     },
     "execution_count": 49,
     "metadata": {},
     "output_type": "execute_result"
    }
   ],
   "source": [
    "menit_belajar"
   ]
  },
  {
   "cell_type": "code",
   "execution_count": 50,
   "id": "8d7f8c3e",
   "metadata": {},
   "outputs": [],
   "source": [
    "rand=np.random.RandomState(32)\n",
    "fake_log=rand.randint(45, 180, size=100, dtype=np.uint16)"
   ]
  },
  {
   "cell_type": "code",
   "execution_count": 52,
   "id": "01ff470b",
   "metadata": {},
   "outputs": [
    {
     "data": {
      "text/plain": [
       "array([ 88, 114, 178, 150,  99, 169,  73, 133,  50, 116, 128, 134, 178,\n",
       "        48,  54,  51,  49,  68,  48, 110, 172,  80, 139,  69,  97,  87,\n",
       "       127, 144,  65,  82,  91, 145, 145,  83, 121, 122, 175,  56, 107,\n",
       "       156,  93, 165,  94,  97,  80, 135,  56, 109,  46,  77, 179, 155,\n",
       "       130, 139, 145, 107, 102,  54,  75,  95,  74, 119, 150, 106, 177,\n",
       "        95,  96, 156, 151,  91,  88,  64, 132, 143, 103, 150, 119,  60,\n",
       "       113,  99, 177, 129, 165, 126,  89,  93, 154, 143,  74, 125, 107,\n",
       "        71,  70, 166, 119, 170,  97, 133, 150,  96], dtype=uint16)"
      ]
     },
     "execution_count": 52,
     "metadata": {},
     "output_type": "execute_result"
    }
   ],
   "source": [
    "fake_log"
   ]
  },
  {
   "cell_type": "code",
   "execution_count": 53,
   "id": "228ae77b",
   "metadata": {},
   "outputs": [
    {
     "data": {
      "text/plain": [
       "[50, 54]"
      ]
     },
     "execution_count": 53,
     "metadata": {},
     "output_type": "execute_result"
    }
   ],
   "source": [
    "[fake_log[8],fake_log[14]]"
   ]
  },
  {
   "cell_type": "code",
   "execution_count": 55,
   "id": "92a46b8c",
   "metadata": {},
   "outputs": [
    {
     "data": {
      "text/plain": [
       "array([50, 54], dtype=uint16)"
      ]
     },
     "execution_count": 55,
     "metadata": {},
     "output_type": "execute_result"
    }
   ],
   "source": [
    "fake_log[[8,14]]"
   ]
  },
  {
   "cell_type": "code",
   "execution_count": 56,
   "id": "bc6491db",
   "metadata": {},
   "outputs": [
    {
     "data": {
      "text/plain": [
       "array([[50, 54],\n",
       "       [51, 49]], dtype=uint16)"
      ]
     },
     "execution_count": 56,
     "metadata": {},
     "output_type": "execute_result"
    }
   ],
   "source": [
    "index=np.array([\n",
    "    [8,14],\n",
    "    [15,16]\n",
    "])\n",
    "fake_log[index]"
   ]
  },
  {
   "cell_type": "code",
   "execution_count": 60,
   "id": "4812456b",
   "metadata": {},
   "outputs": [
    {
     "data": {
      "text/plain": [
       "array([ 75,   0,   0,   0,   0,   0,   0,   0,   0,   0,   0,   0,   0,\n",
       "         0,   0,   0,   0,   0,   0,   0,   0,   0,   0,   0,   0,   0,\n",
       "         0,   0,   0,   0,   0,   0,   0,   0,   0,   0,   0,   0,   0,\n",
       "         0,   0,   0,   0,   0,   0,   0,   0,   0,   0,   0,   0,   0,\n",
       "         0,   0,   0,   0,   0,   0,   0,   0,   0,   0,   0,   0,   0,\n",
       "         0,   0,   0,   0,   0,   0,   0,   0,   0,   0,   0,   0,   0,\n",
       "         0,   0,   0,   0,   0,   0,   0,   0,   0,   0,   0,   0,   0,\n",
       "         0,   0,   0,   0,   0,   0,   0,   0,   0,   0,   0,   0,   0,\n",
       "         0,   0,   0,   0,   0,   0,   0,   0,   0,   0,   0,   0,   0,\n",
       "         0,   0,   0,   0,   0,   0,   0,   0,   0,   0,   0,   0,   0,\n",
       "         0,   0,   0,   0,   0,   0,   0,   0,   0,   0,   0,   0,   0,\n",
       "         0,   0,   0,   0,   0,   0,   0,   0,   0,   0,   0,   0,   0,\n",
       "         0,   0,   0,   0,   0,   0,   0,   0,   0,   0,   0,   0,   0,\n",
       "         0,   0,   0,   0,   0,   0,   0,   0,   0,   0,   0,   0,   0,\n",
       "         0,   0,   0,   0,   0,   0,   0,   0,   0,   0,   0,   0,   0,\n",
       "         0,   0,   0,   0,   0,  88, 114, 178, 150,  99, 169,  73, 133,\n",
       "        50, 116, 128, 134, 178,  48,  54,  51,  49,  68,  48, 110, 172,\n",
       "        80, 139,  69,  97,  87, 127, 144,  65,  82,  91, 145, 145,  83,\n",
       "       121, 122, 175,  56, 107, 156,  93, 165,  94,  97,  80, 135,  56,\n",
       "       109,  46,  77, 179, 155, 130, 139, 145, 107, 102,  54,  75,  95,\n",
       "        74, 119, 150, 106, 177,  95,  96, 156, 151,  91,  88,  64, 132,\n",
       "       143, 103, 150, 119,  60, 113,  99, 177, 129, 165, 126,  89,  93,\n",
       "       154, 143,  74, 125, 107,  71,  70, 166, 119, 170,  97, 133, 150,\n",
       "        96], dtype=uint16)"
      ]
     },
     "execution_count": 60,
     "metadata": {},
     "output_type": "execute_result"
    }
   ],
   "source": [
    "menit_belajar=np.append(menit_belajar,[ fake_log])\n",
    "menit_belajar"
   ]
  },
  {
   "cell_type": "markdown",
   "id": "669b638e",
   "metadata": {},
   "source": [
    "## Filter Array dengan Kondisi\n",
    "mencari nilai waktu belajar dibawah 1 jam "
   ]
  },
  {
   "cell_type": "code",
   "execution_count": 64,
   "id": "bdc73b08",
   "metadata": {},
   "outputs": [
    {
     "data": {
      "text/plain": [
       "array([False, False, False, False, False, False, False, False,  True,\n",
       "       False, False, False, False,  True,  True,  True,  True, False,\n",
       "        True, False, False, False, False, False, False, False, False,\n",
       "       False, False, False, False, False, False, False, False, False,\n",
       "       False,  True, False, False, False, False, False, False, False,\n",
       "       False,  True, False,  True, False, False, False, False, False,\n",
       "       False, False, False,  True, False, False, False, False, False,\n",
       "       False, False, False, False, False, False, False, False, False,\n",
       "       False, False, False, False, False, False, False, False, False,\n",
       "       False, False, False, False, False, False, False, False, False,\n",
       "       False, False, False, False, False, False, False, False, False,\n",
       "       False])"
      ]
     },
     "execution_count": 64,
     "metadata": {},
     "output_type": "execute_result"
    }
   ],
   "source": [
    "fake_log<60\n"
   ]
  },
  {
   "cell_type": "code",
   "execution_count": 72,
   "id": "261b6e53",
   "metadata": {},
   "outputs": [
    {
     "data": {
      "text/plain": [
       "array([50, 48, 54, 51, 49, 48, 56, 56, 46, 54, 60], dtype=uint16)"
      ]
     },
     "execution_count": 72,
     "metadata": {},
     "output_type": "execute_result"
    }
   ],
   "source": [
    "fake_log[fake_log<=60]"
   ]
  },
  {
   "cell_type": "code",
   "execution_count": 71,
   "id": "441a3a6d",
   "metadata": {},
   "outputs": [
    {
     "data": {
      "text/plain": [
       "array([50, 48, 54, 51, 49, 48, 56, 56, 46, 54, 60], dtype=uint16)"
      ]
     },
     "execution_count": 71,
     "metadata": {},
     "output_type": "execute_result"
    }
   ],
   "source": [
    "hasil=[]\n",
    "for value in fake_log :\n",
    "    if value <= 60:\n",
    "        hasil.append(value)\n",
    "    \n",
    "np.array(hasil)\n",
    "    "
   ]
  },
  {
   "cell_type": "code",
   "execution_count": 73,
   "id": "0bc87ad9",
   "metadata": {},
   "outputs": [
    {
     "data": {
      "text/plain": [
       "array([ 75,   0,   0,   0,   0,   0,   0,   0,   0,   0,   0,   0,   0,\n",
       "         0,   0,   0,   0,   0,   0,   0,   0,   0,   0,   0,   0,   0,\n",
       "         0,   0,   0,   0,   0,   0,   0,   0,   0,   0,   0,   0,   0,\n",
       "         0,   0,   0,   0,   0,   0,   0,   0,   0,   0,   0,   0,   0,\n",
       "         0,   0,   0,   0,   0,   0,   0,   0,   0,   0,   0,   0,   0,\n",
       "         0,   0,   0,   0,   0,   0,   0,   0,   0,   0,   0,   0,   0,\n",
       "         0,   0,   0,   0,   0,   0,   0,   0,   0,   0,   0,   0,   0,\n",
       "         0,   0,   0,   0,   0,   0,   0,   0,   0,   0,   0,   0,   0,\n",
       "         0,   0,   0,   0,   0,   0,   0,   0,   0,   0,   0,   0,   0,\n",
       "         0,   0,   0,   0,   0,   0,   0,   0,   0,   0,   0,   0,   0,\n",
       "         0,   0,   0,   0,   0,   0,   0,   0,   0,   0,   0,   0,   0,\n",
       "         0,   0,   0,   0,   0,   0,   0,   0,   0,   0,   0,   0,   0,\n",
       "         0,   0,   0,   0,   0,   0,   0,   0,   0,   0,   0,   0,   0,\n",
       "         0,   0,   0,   0,   0,   0,   0,   0,   0,   0,   0,   0,   0,\n",
       "         0,   0,   0,   0,   0,   0,   0,   0,   0,   0,   0,   0,   0,\n",
       "         0,   0,   0,   0,   0,  88, 114, 178, 150,  99, 169,  73, 133,\n",
       "        50, 116, 128, 134, 178,  48,  54,  51,  49,  68,  48, 110, 172,\n",
       "        80, 139,  69,  97,  87, 127, 144,  65,  82,  91, 145, 145,  83,\n",
       "       121, 122, 175,  56, 107, 156,  93, 165,  94,  97,  80, 135,  56,\n",
       "       109,  46,  77, 179, 155, 130, 139, 145, 107, 102,  54,  75,  95,\n",
       "        74, 119, 150, 106, 177,  95,  96, 156, 151,  91,  88,  64, 132,\n",
       "       143, 103, 150, 119,  60, 113,  99, 177, 129, 165, 126,  89,  93,\n",
       "       154, 143,  74, 125, 107,  71,  70, 166, 119, 170,  97, 133, 150,\n",
       "        96], dtype=uint16)"
      ]
     },
     "execution_count": 73,
     "metadata": {},
     "output_type": "execute_result"
    }
   ],
   "source": [
    "menit_belajar"
   ]
  },
  {
   "cell_type": "code",
   "execution_count": 74,
   "id": "d56c006e",
   "metadata": {},
   "outputs": [
    {
     "data": {
      "text/plain": [
       "array([75,  0,  0,  0,  0,  0,  0,  0,  0,  0,  0,  0,  0,  0,  0,  0,  0,\n",
       "        0,  0,  0,  0,  0,  0,  0,  0,  0,  0,  0,  0,  0,  0,  0,  0,  0,\n",
       "        0,  0,  0,  0,  0,  0,  0,  0,  0,  0,  0,  0,  0,  0,  0,  0,  0,\n",
       "        0,  0,  0,  0,  0,  0,  0,  0,  0,  0,  0,  0,  0,  0,  0,  0,  0,\n",
       "        0,  0,  0,  0,  0,  0,  0,  0,  0,  0,  0,  0,  0,  0,  0,  0,  0,\n",
       "        0,  0,  0,  0,  0,  0,  0,  0,  0,  0,  0,  0,  0,  0,  0,  0,  0,\n",
       "        0,  0,  0,  0,  0,  0,  0,  0,  0,  0,  0,  0,  0,  0,  0,  0,  0,\n",
       "        0,  0,  0,  0,  0,  0,  0,  0,  0,  0,  0,  0,  0,  0,  0,  0,  0,\n",
       "        0,  0,  0,  0,  0,  0,  0,  0,  0,  0,  0,  0,  0,  0,  0,  0,  0,\n",
       "        0,  0,  0,  0,  0,  0,  0,  0,  0,  0,  0,  0,  0,  0,  0,  0,  0,\n",
       "        0,  0,  0,  0,  0,  0,  0,  0,  0,  0,  0,  0,  0,  0,  0,  0,  0,\n",
       "        0,  0,  0,  0,  0,  0,  0,  0,  0,  0,  0,  0,  0, 73, 50, 48, 54,\n",
       "       51, 49, 68, 48, 69, 65, 56, 56, 46, 54, 75, 74, 64, 60, 74, 71, 70],\n",
       "      dtype=uint16)"
      ]
     },
     "execution_count": 74,
     "metadata": {},
     "output_type": "execute_result"
    }
   ],
   "source": [
    "menit_belajar[menit_belajar<=75]"
   ]
  },
  {
   "cell_type": "code",
   "execution_count": 75,
   "id": "a0522e12",
   "metadata": {},
   "outputs": [
    {
     "data": {
      "text/plain": [
       "array([75, 73, 50, 48, 54, 51, 49, 68, 48, 69, 65, 56, 56, 46, 54, 75, 74,\n",
       "       64, 60, 74, 71, 70], dtype=uint16)"
      ]
     },
     "execution_count": 75,
     "metadata": {},
     "output_type": "execute_result"
    }
   ],
   "source": [
    "menit_belajar[(menit_belajar<=75) & (menit_belajar>0)]"
   ]
  },
  {
   "cell_type": "markdown",
   "id": "01979b69",
   "metadata": {},
   "source": [
    "## Slicing Array"
   ]
  },
  {
   "cell_type": "code",
   "execution_count": 77,
   "id": "560f608e",
   "metadata": {},
   "outputs": [
    {
     "data": {
      "text/plain": [
       "array([[ 0,  1,  2,  3,  4,  5],\n",
       "       [ 6,  7,  8,  9, 10, 11],\n",
       "       [12, 13, 14, 15, 16, 17],\n",
       "       [18, 19, 20, 21, 22, 23],\n",
       "       [24, 25, 26, 27, 28, 29],\n",
       "       [30, 31, 32, 33, 34, 35],\n",
       "       [36, 37, 38, 39, 40, 41]])"
      ]
     },
     "execution_count": 77,
     "metadata": {},
     "output_type": "execute_result"
    }
   ],
   "source": [
    "practice=np.arange(42)\n",
    "practice.shape=(7, 6)\n",
    "practice"
   ]
  },
  {
   "cell_type": "code",
   "execution_count": 80,
   "id": "20f36ef8",
   "metadata": {},
   "outputs": [
    {
     "data": {
      "text/plain": [
       "13"
      ]
     },
     "execution_count": 80,
     "metadata": {},
     "output_type": "execute_result"
    }
   ],
   "source": [
    "practice[2, 1]"
   ]
  },
  {
   "cell_type": "code",
   "execution_count": 81,
   "id": "8d9e87d2",
   "metadata": {},
   "outputs": [
    {
     "data": {
      "text/plain": [
       "array([[12, 13, 14, 15, 16, 17],\n",
       "       [18, 19, 20, 21, 22, 23],\n",
       "       [24, 25, 26, 27, 28, 29]])"
      ]
     },
     "execution_count": 81,
     "metadata": {},
     "output_type": "execute_result"
    }
   ],
   "source": [
    "practice[2:5]"
   ]
  },
  {
   "cell_type": "code",
   "execution_count": 82,
   "id": "34a43b0c",
   "metadata": {},
   "outputs": [
    {
     "data": {
      "text/plain": [
       "array([15, 21, 27])"
      ]
     },
     "execution_count": 82,
     "metadata": {},
     "output_type": "execute_result"
    }
   ],
   "source": [
    "practice[2:5, 3]"
   ]
  },
  {
   "cell_type": "code",
   "execution_count": 90,
   "id": "31e89fca",
   "metadata": {},
   "outputs": [
    {
     "data": {
      "text/plain": [
       "array([[15, 16, 17],\n",
       "       [21, 22, 23],\n",
       "       [27, 28, 29]])"
      ]
     },
     "execution_count": 90,
     "metadata": {},
     "output_type": "execute_result"
    }
   ],
   "source": [
    "practice[2:5, 3:]"
   ]
  },
  {
   "cell_type": "markdown",
   "id": "7d91e0e5",
   "metadata": {},
   "source": [
    "## Copy vs View Array"
   ]
  },
  {
   "cell_type": "code",
   "execution_count": 94,
   "id": "149ba802",
   "metadata": {},
   "outputs": [
    {
     "data": {
      "text/plain": [
       "([1, 2, 3], [12345, 2, 3])"
      ]
     },
     "execution_count": 94,
     "metadata": {},
     "output_type": "execute_result"
    }
   ],
   "source": [
    "practice_list=[1, 2, 3]\n",
    "practice_list_copy=practice_list[:]\n",
    "practice_list, practice_list_copy\n",
    "practice_list_copy[0]=12345\n",
    "practice_list, practice_list_copy"
   ]
  },
  {
   "cell_type": "code",
   "execution_count": 118,
   "id": "b0c9a1cc",
   "metadata": {},
   "outputs": [
    {
     "data": {
      "text/plain": [
       "(array([[  1, 123,   4],\n",
       "        [  2,   5,   6]], dtype=uint16),\n",
       " array([[  1, 123,   4],\n",
       "        [  2,   5,   6]], dtype=uint16))"
      ]
     },
     "execution_count": 118,
     "metadata": {},
     "output_type": "execute_result"
    }
   ],
   "source": [
    "praktik=np.array([[1, 2, 4],\n",
    "                [2, 5, 6]], np.uint16)\n",
    "\n",
    "not_copied=praktik[:]\n",
    "praktik, not_copied\n",
    "not_copied[0,1]=123\n",
    "praktik, not_copied"
   ]
  },
  {
   "cell_type": "code",
   "execution_count": 115,
   "id": "d53a91d8",
   "metadata": {},
   "outputs": [],
   "source": [
    "praktik=np.array([[1, 2, 4],\n",
    "                [2, 5, 6]], np.uint16)\n"
   ]
  },
  {
   "cell_type": "code",
   "execution_count": 119,
   "id": "b95d4b81",
   "metadata": {},
   "outputs": [
    {
     "data": {
      "text/plain": [
       "array([[  1, 123,   4],\n",
       "       [  2,   5,   6]], dtype=uint16)"
      ]
     },
     "execution_count": 119,
     "metadata": {},
     "output_type": "execute_result"
    }
   ],
   "source": [
    "praktik"
   ]
  },
  {
   "cell_type": "markdown",
   "id": "e7b9b05b",
   "metadata": {},
   "source": [
    "## Aljabar Linear "
   ]
  },
  {
   "cell_type": "code",
   "execution_count": 120,
   "id": "3c2bc4a9",
   "metadata": {},
   "outputs": [
    {
     "data": {
      "text/plain": [
       "array([10000.,  2500.,  5000.,  3000.])"
      ]
     },
     "execution_count": 120,
     "metadata": {},
     "output_type": "execute_result"
    }
   ],
   "source": [
    "orders=np.array([\n",
    "    [2, 0, 0, 0],\n",
    "    [1, 0, 2, 4],\n",
    "    [1, 2, 1, 0],\n",
    "    [4, 6, 0, 2]\n",
    "])\n",
    "totals=np.array([20000,32000, 20000, 61000 ])\n",
    "prices=np.linalg.solve(orders, totals)\n",
    "prices"
   ]
  },
  {
   "cell_type": "markdown",
   "id": "8092208d",
   "metadata": {},
   "source": [
    "## Operasi Matriks"
   ]
  },
  {
   "cell_type": "code",
   "execution_count": 121,
   "id": "e633ec5a",
   "metadata": {},
   "outputs": [
    {
     "name": "stdout",
     "output_type": "stream",
     "text": [
      "[75 73 50 48 54 51 49 68 48 69 65 56 56 46 54 75 74 64 60 74 71 70]\n"
     ]
    },
    {
     "data": {
      "text/plain": [
       "1350"
      ]
     },
     "execution_count": 121,
     "metadata": {},
     "output_type": "execute_result"
    }
   ],
   "source": [
    "menit_belajar_less=menit_belajar[(menit_belajar<=75) & (menit_belajar>0)]\n",
    "print(menit_belajar_less)\n",
    "np.add.reduce(menit_belajar_less)"
   ]
  },
  {
   "cell_type": "code",
   "execution_count": 123,
   "id": "4de1875c",
   "metadata": {},
   "outputs": [
    {
     "data": {
      "text/plain": [
       "1350"
      ]
     },
     "execution_count": 123,
     "metadata": {},
     "output_type": "execute_result"
    }
   ],
   "source": [
    "np.sum(menit_belajar_less)"
   ]
  },
  {
   "cell_type": "code",
   "execution_count": 124,
   "id": "11500ac9",
   "metadata": {},
   "outputs": [],
   "source": [
    "a, b=np.split(np.arange(1,11),2)"
   ]
  },
  {
   "cell_type": "code",
   "execution_count": 125,
   "id": "4b4b0a09",
   "metadata": {},
   "outputs": [
    {
     "data": {
      "text/plain": [
       "(array([1, 2, 3, 4, 5]), array([ 6,  7,  8,  9, 10]))"
      ]
     },
     "execution_count": 125,
     "metadata": {},
     "output_type": "execute_result"
    }
   ],
   "source": [
    "a,b\n"
   ]
  },
  {
   "cell_type": "code",
   "execution_count": 126,
   "id": "014148fa",
   "metadata": {},
   "outputs": [
    {
     "data": {
      "text/plain": [
       "array([ 7,  9, 11, 13, 15])"
      ]
     },
     "execution_count": 126,
     "metadata": {},
     "output_type": "execute_result"
    }
   ],
   "source": [
    "a+b"
   ]
  },
  {
   "cell_type": "code",
   "execution_count": 127,
   "id": "f61ffc87",
   "metadata": {},
   "outputs": [
    {
     "data": {
      "text/plain": [
       "array([-5, -5, -5, -5, -5])"
      ]
     },
     "execution_count": 127,
     "metadata": {},
     "output_type": "execute_result"
    }
   ],
   "source": [
    "a-b"
   ]
  },
  {
   "cell_type": "code",
   "execution_count": 128,
   "id": "feb7507a",
   "metadata": {},
   "outputs": [
    {
     "data": {
      "text/plain": [
       "array([ 6, 14, 24, 36, 50])"
      ]
     },
     "execution_count": 128,
     "metadata": {},
     "output_type": "execute_result"
    }
   ],
   "source": [
    "a*b"
   ]
  },
  {
   "cell_type": "code",
   "execution_count": 129,
   "id": "025a84a3",
   "metadata": {},
   "outputs": [
    {
     "data": {
      "text/plain": [
       "array([4, 5, 6, 7, 8])"
      ]
     },
     "execution_count": 129,
     "metadata": {},
     "output_type": "execute_result"
    }
   ],
   "source": [
    "a+np.repeat(3,5)"
   ]
  },
  {
   "cell_type": "code",
   "execution_count": 131,
   "id": "f1ecc7fd",
   "metadata": {},
   "outputs": [
    {
     "data": {
      "text/plain": [
       "(array([[0., 1., 2.],\n",
       "        [3., 4., 5.],\n",
       "        [6., 7., 8.]]),\n",
       " array([0., 1., 2.]))"
      ]
     },
     "execution_count": 131,
     "metadata": {},
     "output_type": "execute_result"
    }
   ],
   "source": [
    "x1=np.arange(9.0).reshape((3,3))\n",
    "x2=np.arange(3.0)\n",
    "x1, x2"
   ]
  },
  {
   "cell_type": "code",
   "execution_count": 132,
   "id": "6e98bf5f",
   "metadata": {},
   "outputs": [
    {
     "data": {
      "text/plain": [
       "array([[ 0.,  2.,  4.],\n",
       "       [ 3.,  5.,  7.],\n",
       "       [ 6.,  8., 10.]])"
      ]
     },
     "execution_count": 132,
     "metadata": {},
     "output_type": "execute_result"
    }
   ],
   "source": [
    "np.add(x1,x2)"
   ]
  },
  {
   "cell_type": "markdown",
   "id": "d51253bc",
   "metadata": {},
   "source": [
    "## MatPlotLib"
   ]
  },
  {
   "cell_type": "code",
   "execution_count": 133,
   "id": "9b0cc215",
   "metadata": {},
   "outputs": [],
   "source": [
    "import matplotlib.pyplot as plt"
   ]
  },
  {
   "cell_type": "code",
   "execution_count": 136,
   "id": "659f162e",
   "metadata": {},
   "outputs": [
    {
     "data": {
      "text/plain": [
       "[]"
      ]
     },
     "execution_count": 136,
     "metadata": {},
     "output_type": "execute_result"
    },
    {
     "data": {
      "image/png": "[encoded data removed]",
      "text/plain": [
       "<Figure size 432x288 with 1 Axes>"
      ]
     },
     "metadata": {
      "needs_background": "light"
     },
     "output_type": "display_data"
    }
   ],
   "source": [
    "plt.hist(menit_belajar[menit_belajar>0])\n",
    "plt.plot()"
   ]
  },
  {
   "cell_type": "code",
   "execution_count": null,
   "id": "42ad1471",
   "metadata": {},
   "outputs": [],
   "source": []
  }
 ],
 "metadata": {
  "kernelspec": {
   "display_name": "Python 3 (ipykernel)",
   "language": "python",
   "name": "python3"
  },
  "language_info": {
   "codemirror_mode": {
    "name": "ipython",
    "version": 3
   },
   "file_extension": ".py",
   "mimetype": "text/x-python",
   "name": "python",
   "nbconvert_exporter": "python",
   "pygments_lexer": "ipython3",
   "version": "3.9.7"
  },
  "toc": {
   "base_numbering": 1,
   "nav_menu": {},
   "number_sections": false,
   "sideBar": true,
   "skip_h1_title": false,
   "title_cell": "Table of Contents",
   "title_sidebar": "Contents",
   "toc_cell": false,
   "toc_position": {},
   "toc_section_display": true,
   "toc_window_display": true
  }
 },
 "nbformat": 4,
 "nbformat_minor": 5
}
